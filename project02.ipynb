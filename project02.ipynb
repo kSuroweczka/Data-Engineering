{
 "cells": [
  {
   "cell_type": "code",
   "execution_count": 1,
   "id": "27572191-cd9a-48be-9b4a-54c65ceb0b80",
   "metadata": {
    "tags": []
   },
   "outputs": [
    {
     "name": "stdout",
     "output_type": "stream",
     "text": [
      "           full_name     field   language code  task_1  task_2  task_3  \\\n",
      "0   Rowan Harrington    drones     python  wej     3.1     2.0     4.4   \n",
      "1         Nash Wyatt    racing       java  sfe     4.2     2.0     2.0   \n",
      "2     Jadiel Ramirez     media  cplusplus  vaw     4.0     4.9     3.0   \n",
      "3     Makaila Atkins    racing      swift  ugt     4.1     5.0     4.8   \n",
      "4     Melanie Fuller    racing     python  owb     2.7     2.0     2.0   \n",
      "5      Layla Woodard    drones     python  wuf     2.8     2.0     2.0   \n",
      "6         Edwin Hale     media      swift  ceq     4.9     3.0     3.4   \n",
      "7       Travis Rocha  robotics  cplusplus  eir     5.0     4.9     5.0   \n",
      "8       Ricky Howell     media       java  vos     2.1     2.0     2.0   \n",
      "9    Addyson Brennan    drones       java  cov     4.4     3.7     4.0   \n",
      "10      Megan Barker    drones      swift  oqq     3.9     4.0     4.4   \n",
      "11    Abel Hendricks    racing     python  dfa     4.1     5.0     5.0   \n",
      "\n",
      "    tasks_avg    task_grade jury_score     final_grade  \n",
      "0    3.166667   dostateczny    3,5 pts     dostateczny  \n",
      "1    2.733333  bardzo dobry        5 p          mierny  \n",
      "2    3.966667         dobry        3.5          mierny  \n",
      "3    4.633333         dobry          2     dostateczny  \n",
      "4    2.233333  bardzo dobry      pts 2          mierny  \n",
      "5    2.266667  bardzo dobry       3,5p     dostateczny  \n",
      "6    3.766667   dostateczny   -1 (dnf)  niedostateczny  \n",
      "7    4.966667   dostateczny          0  niedostateczny  \n",
      "8    2.033333         dobry    waiting  niedostateczny  \n",
      "9    4.033333  bardzo dobry          -  niedostateczny  \n",
      "10   4.100000   dostateczny          2     dostateczny  \n",
      "11   4.700000  bardzo dobry          4          mierny  \n"
     ]
    }
   ],
   "source": [
    "import pandas as pd\n",
    "import pickle as pkl\n",
    "import numpy as np\n",
    "\n",
    "####Exercise 1\n",
    "df=pd.DataFrame()\n",
    "sep=[',', '|', ';']\n",
    "for i in sep:\n",
    "    dec=\",\"\n",
    "    if i==\",\":\n",
    "        dec=\".\"\n",
    "    df=pd.read_csv(\"proj2_data.csv\", sep=i, decimal=dec)\n",
    "    if len(list(df.columns))>1:\n",
    "        break\n",
    "with open(\"proj2_ex01.pkl\", 'wb') as file:\n",
    "    pkl.dump(df, file)\n",
    "print(df)"
   ]
  },
  {
   "cell_type": "code",
   "execution_count": 2,
   "id": "d271bb15-6fad-4813-bfc1-9a75ed51221c",
   "metadata": {
    "tags": []
   },
   "outputs": [
    {
     "name": "stdout",
     "output_type": "stream",
     "text": [
      "{'niedostateczny': 1, 'mierny': 2, 'dostateczny': 3, 'dobry': 4, 'bardzo dobry': 5}\n",
      "           full_name     field   language code  task_1  task_2  task_3  \\\n",
      "0   Rowan Harrington    drones     python  wej     3.1     2.0     4.4   \n",
      "1         Nash Wyatt    racing       java  sfe     4.2     2.0     2.0   \n",
      "2     Jadiel Ramirez     media  cplusplus  vaw     4.0     4.9     3.0   \n",
      "3     Makaila Atkins    racing      swift  ugt     4.1     5.0     4.8   \n",
      "4     Melanie Fuller    racing     python  owb     2.7     2.0     2.0   \n",
      "5      Layla Woodard    drones     python  wuf     2.8     2.0     2.0   \n",
      "6         Edwin Hale     media      swift  ceq     4.9     3.0     3.4   \n",
      "7       Travis Rocha  robotics  cplusplus  eir     5.0     4.9     5.0   \n",
      "8       Ricky Howell     media       java  vos     2.1     2.0     2.0   \n",
      "9    Addyson Brennan    drones       java  cov     4.4     3.7     4.0   \n",
      "10      Megan Barker    drones      swift  oqq     3.9     4.0     4.4   \n",
      "11    Abel Hendricks    racing     python  dfa     4.1     5.0     5.0   \n",
      "\n",
      "    tasks_avg  task_grade jury_score  final_grade  \n",
      "0    3.166667           3    3,5 pts            3  \n",
      "1    2.733333           5        5 p            2  \n",
      "2    3.966667           4        3.5            2  \n",
      "3    4.633333           4          2            3  \n",
      "4    2.233333           5      pts 2            2  \n",
      "5    2.266667           5       3,5p            3  \n",
      "6    3.766667           3   -1 (dnf)            1  \n",
      "7    4.966667           3          0            1  \n",
      "8    2.033333           4    waiting            1  \n",
      "9    4.033333           5          -            1  \n",
      "10   4.100000           3          2            3  \n",
      "11   4.700000           5          4            2  \n"
     ]
    }
   ],
   "source": [
    "####Exercise 2\n",
    "dictt={\"niedostateczny\":1, \"mierny\":2, \"dostateczny\":3, \"dobry\":4, \"bardzo dobry\":5}\n",
    "   \n",
    "df_copy = df.copy() \n",
    "arr = []\n",
    "with open(\"proj2_scale.txt\") as f:\n",
    "    arr = f.readlines()\n",
    "    arr = [i.replace(\"\\n\",\"\") for i in arr ]\n",
    "mapa = {}\n",
    "counterRR = 1\n",
    "for i in arr:\n",
    "    mapa[i] = counterRR\n",
    "    counterRR += 1\n",
    "print(mapa)\n",
    "categories = []\n",
    "for col in df_copy:\n",
    "    for j in list(df_copy[col].values):\n",
    "        if j in arr:\n",
    "            df_copy[col] = df_copy[col].map(mapa)\n",
    "            categories.append(col)\n",
    "            break\n",
    "print(df_copy)\n",
    "with open(\"proj2_ex02.pkl\",\"wb\") as f:\n",
    "    pkl.dump(df_copy,f)"
   ]
  },
  {
   "cell_type": "code",
   "execution_count": 3,
   "id": "22e09d20-4427-4286-b4e3-b84932c32c17",
   "metadata": {
    "tags": []
   },
   "outputs": [
    {
     "name": "stdout",
     "output_type": "stream",
     "text": [
      "full_name        object\n",
      "field            object\n",
      "language         object\n",
      "code             object\n",
      "task_1          float64\n",
      "task_2          float64\n",
      "task_3          float64\n",
      "tasks_avg       float64\n",
      "task_grade     category\n",
      "jury_score       object\n",
      "final_grade    category\n",
      "dtype: object\n",
      "           full_name     field   language code  task_1  task_2  task_3  \\\n",
      "0   Rowan Harrington    drones     python  wej     3.1     2.0     4.4   \n",
      "1         Nash Wyatt    racing       java  sfe     4.2     2.0     2.0   \n",
      "2     Jadiel Ramirez     media  cplusplus  vaw     4.0     4.9     3.0   \n",
      "3     Makaila Atkins    racing      swift  ugt     4.1     5.0     4.8   \n",
      "4     Melanie Fuller    racing     python  owb     2.7     2.0     2.0   \n",
      "5      Layla Woodard    drones     python  wuf     2.8     2.0     2.0   \n",
      "6         Edwin Hale     media      swift  ceq     4.9     3.0     3.4   \n",
      "7       Travis Rocha  robotics  cplusplus  eir     5.0     4.9     5.0   \n",
      "8       Ricky Howell     media       java  vos     2.1     2.0     2.0   \n",
      "9    Addyson Brennan    drones       java  cov     4.4     3.7     4.0   \n",
      "10      Megan Barker    drones      swift  oqq     3.9     4.0     4.4   \n",
      "11    Abel Hendricks    racing     python  dfa     4.1     5.0     5.0   \n",
      "\n",
      "    tasks_avg    task_grade jury_score     final_grade  \n",
      "0    3.166667   dostateczny    3,5 pts     dostateczny  \n",
      "1    2.733333  bardzo dobry        5 p          mierny  \n",
      "2    3.966667         dobry        3.5          mierny  \n",
      "3    4.633333         dobry          2     dostateczny  \n",
      "4    2.233333  bardzo dobry      pts 2          mierny  \n",
      "5    2.266667  bardzo dobry       3,5p     dostateczny  \n",
      "6    3.766667   dostateczny   -1 (dnf)  niedostateczny  \n",
      "7    4.966667   dostateczny          0  niedostateczny  \n",
      "8    2.033333         dobry    waiting  niedostateczny  \n",
      "9    4.033333  bardzo dobry          -  niedostateczny  \n",
      "10   4.100000   dostateczny          2     dostateczny  \n",
      "11   4.700000  bardzo dobry          4          mierny  \n"
     ]
    }
   ],
   "source": [
    "####Exercise 3\n",
    "df_sec_copy=df.copy()\n",
    "df_sec_copy[\"task_grade\"]=df_sec_copy[\"task_grade\"].astype('category')\n",
    "df_sec_copy[\"final_grade\"]=df_sec_copy[\"final_grade\"].astype('category')\n",
    "df_sec_copy.dtypes\n",
    "\n",
    "subset_columns=[\"task_grade\",\"final_grade\"]\n",
    "\n",
    "for col in subset_columns:\n",
    "    df_sec_copy[col] = df_sec_copy[col].cat.set_categories(dictt.keys())\n",
    "print(df_sec_copy.dtypes)\n",
    "print(df_sec_copy)\n",
    "with open(\"proj2_ex03.pkl\", 'wb') as filee:\n",
    "    pkl.dump(df_sec_copy, filee)"
   ]
  },
  {
   "cell_type": "code",
   "execution_count": 4,
   "id": "c21162c4-38c5-4017-89bb-ee68f72b0cd0",
   "metadata": {},
   "outputs": [
    {
     "name": "stdout",
     "output_type": "stream",
     "text": [
      "['jury_score']\n",
      "jury_score    float64\n",
      "dtype: object\n",
      "    jury_score\n",
      "6         -1.0\n",
      "7          0.0\n",
      "3          2.0\n",
      "4          2.0\n",
      "10         2.0\n",
      "0          3.5\n",
      "2          3.5\n",
      "5          3.5\n",
      "11         4.0\n",
      "1          5.0\n",
      "8          NaN\n",
      "9          NaN\n"
     ]
    },
    {
     "name": "stderr",
     "output_type": "stream",
     "text": [
      "C:\\Users\\karol\\AppData\\Local\\Temp\\ipykernel_13968\\2206341303.py:20: SettingWithCopyWarning: \n",
      "A value is trying to be set on a copy of a slice from a DataFrame\n",
      "\n",
      "See the caveats in the documentation: https://pandas.pydata.org/pandas-docs/stable/user_guide/indexing.html#returning-a-view-versus-a-copy\n",
      "  df_copy_3[col][idx]='NaN'\n",
      "C:\\Users\\karol\\AppData\\Local\\Temp\\ipykernel_13968\\2206341303.py:18: SettingWithCopyWarning: \n",
      "A value is trying to be set on a copy of a slice from a DataFrame\n",
      "\n",
      "See the caveats in the documentation: https://pandas.pydata.org/pandas-docs/stable/user_guide/indexing.html#returning-a-view-versus-a-copy\n",
      "  df_copy_3[col][idx]=new_string\n"
     ]
    }
   ],
   "source": [
    "# ####Exercise 4\n",
    "df_copy_3=df.copy()\n",
    "obj_col=[]\n",
    "for col in df_copy_3.columns:\n",
    "    if df_copy_3[col].dtypes == 'object':\n",
    "        b=False\n",
    "        idx=0\n",
    "        for i in df_copy_3[col]:\n",
    "            if any(char.isdigit() for char in i):\n",
    "                b=True\n",
    "                new_string=\"\"\n",
    "                for char in i:\n",
    "                    if char not in \"0123456789,.-\":\n",
    "                        continue  # Skip this character\n",
    "                    else:\n",
    "                        new_string += char  # Add this character to the new string\n",
    "                new_string=new_string.replace(\",\",\".\")\n",
    "                df_copy_3[col][idx]=new_string\n",
    "            if not any(char.isdigit() for char in i):\n",
    "                df_copy_3[col][idx]='NaN'\n",
    "            idx+=1\n",
    "        if b==True:\n",
    "            obj_col.append(col)\n",
    "print(obj_col)\n",
    "df_new = df_copy_3.loc[:, obj_col]\n",
    "for col in df_new.columns: \n",
    "    df_new[col]=df_new[col].astype(float)\n",
    "print(df_new.dtypes)\n",
    "df_new=df_new.sort_values(\"jury_score\")\n",
    "print(df_new)\n",
    "\n",
    "with open('proj2_ex04.pkl', 'wb') as fff:\n",
    "    pkl.dump(df_new, fff)"
   ]
  },
  {
   "cell_type": "code",
   "execution_count": 5,
   "id": "0ef4a27b-3fcd-4d7e-85b8-dc1db529f7e9",
   "metadata": {
    "tags": []
   },
   "outputs": [
    {
     "name": "stdout",
     "output_type": "stream",
     "text": [
      "    drones  media  racing  robotics\n",
      "0        1      0       0         0\n",
      "1        0      0       1         0\n",
      "2        0      1       0         0\n",
      "3        0      0       1         0\n",
      "4        0      0       1         0\n",
      "5        1      0       0         0\n",
      "6        0      1       0         0\n",
      "7        0      0       0         1\n",
      "8        0      1       0         0\n",
      "9        1      0       0         0\n",
      "10       1      0       0         0\n",
      "11       0      0       1         0\n",
      "    cplusplus  java  python  swift\n",
      "0           0     0       1      0\n",
      "1           0     1       0      0\n",
      "2           1     0       0      0\n",
      "3           0     0       0      1\n",
      "4           0     0       1      0\n",
      "5           0     0       1      0\n",
      "6           0     0       0      1\n",
      "7           1     0       0      0\n",
      "8           0     1       0      0\n",
      "9           0     1       0      0\n",
      "10          0     0       0      1\n",
      "11          0     0       1      0\n"
     ]
    }
   ],
   "source": [
    "####Exercise 5\n",
    "df_copy_2=df.copy()\n",
    "new_data=[]\n",
    "\n",
    "for col in df.columns:\n",
    "    if df[col].dtype=='object' and df[col].nunique() <= 10 and df[col].str.match('[a-z]+').all() and df[col].str.match(r'^[a-z]+$').all():\n",
    "        new_data.append(col)\n",
    "        \n",
    "valid_text_cols = []\n",
    "with open('proj2_scale.txt', 'r') as f:\n",
    "    text_file = f.read().splitlines()\n",
    "    \n",
    "for col in new_data:\n",
    "    if df[col].isin(text_file).any():\n",
    "        continue\n",
    "    valid_text_cols.append(col)\n",
    "i=1\n",
    "for col in valid_text_cols:\n",
    "    one_hot = pd.get_dummies(df[col], prefix='', prefix_sep='')\n",
    "    one_hot.columns = one_hot.columns.str.replace(' ', '')\n",
    "    file_name = f'proj2_ex05_{i}.pkl'\n",
    "    print(one_hot)\n",
    "    with open(file_name, 'wb') as f:\n",
    "        pkl.dump(one_hot, f)\n",
    "    i+=1"
   ]
  },
  {
   "cell_type": "code",
   "execution_count": null,
   "id": "6fce692b-6708-4b8a-93d3-a01553cc5820",
   "metadata": {},
   "outputs": [],
   "source": []
  }
 ],
 "metadata": {
  "kernelspec": {
   "display_name": "Python 3 (ipykernel)",
   "language": "python",
   "name": "python3"
  },
  "language_info": {
   "codemirror_mode": {
    "name": "ipython",
    "version": 3
   },
   "file_extension": ".py",
   "mimetype": "text/x-python",
   "name": "python",
   "nbconvert_exporter": "python",
   "pygments_lexer": "ipython3",
   "version": "3.11.1"
  }
 },
 "nbformat": 4,
 "nbformat_minor": 5
}
