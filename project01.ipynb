{
 "cells": [
  {
   "cell_type": "code",
   "execution_count": 1,
   "id": "1b476f3a-45d6-4aa5-b66d-f6e42605eb5e",
   "metadata": {
    "tags": []
   },
   "outputs": [],
   "source": [
    "import pandas as pd\n",
    "df=pd.read_csv('lab1_ex01.csv')"
   ]
  },
  {
   "cell_type": "code",
   "execution_count": 2,
   "id": "3931091c-e1c8-49cf-91f8-6acdc4aba82a",
   "metadata": {
    "tags": []
   },
   "outputs": [
    {
     "data": {
      "text/html": [
       "<div>\n",
       "<style scoped>\n",
       "    .dataframe tbody tr th:only-of-type {\n",
       "        vertical-align: middle;\n",
       "    }\n",
       "\n",
       "    .dataframe tbody tr th {\n",
       "        vertical-align: top;\n",
       "    }\n",
       "\n",
       "    .dataframe thead th {\n",
       "        text-align: right;\n",
       "    }\n",
       "</style>\n",
       "<table border=\"1\" class=\"dataframe\">\n",
       "  <thead>\n",
       "    <tr style=\"text-align: right;\">\n",
       "      <th></th>\n",
       "      <th>First column</th>\n",
       "      <th>two</th>\n",
       "      <th>three</th>\n",
       "      <th>SOME;NAME</th>\n",
       "      <th>five</th>\n",
       "      <th>What is this even?</th>\n",
       "      <th>seven</th>\n",
       "      <th>eight</th>\n",
       "    </tr>\n",
       "  </thead>\n",
       "  <tbody>\n",
       "    <tr>\n",
       "      <th>0</th>\n",
       "      <td>0.348554</td>\n",
       "      <td>-0.14509562920877161</td>\n",
       "      <td>-0.012336991474672475</td>\n",
       "      <td>9</td>\n",
       "      <td>red</td>\n",
       "      <td>good</td>\n",
       "      <td>quarrelsome</td>\n",
       "      <td>2016-05-26 09:33:42</td>\n",
       "    </tr>\n",
       "    <tr>\n",
       "      <th>1</th>\n",
       "      <td>-1.493853</td>\n",
       "      <td>0.12436946488785079</td>\n",
       "      <td>1.4611100361038865</td>\n",
       "      <td>4</td>\n",
       "      <td>red</td>\n",
       "      <td>bad</td>\n",
       "      <td>doctor</td>\n",
       "      <td>2016-12-03 18:55:52</td>\n",
       "    </tr>\n",
       "    <tr>\n",
       "      <th>2</th>\n",
       "      <td>-0.325891</td>\n",
       "      <td>NaN</td>\n",
       "      <td>-0.42191202598625566</td>\n",
       "      <td>2</td>\n",
       "      <td>red</td>\n",
       "      <td>average</td>\n",
       "      <td>large</td>\n",
       "      <td>2016-05-15 11:49:26</td>\n",
       "    </tr>\n",
       "    <tr>\n",
       "      <th>3</th>\n",
       "      <td>-0.506596</td>\n",
       "      <td>0.3991147675939107</td>\n",
       "      <td>-0.26502607502330217</td>\n",
       "      <td>5</td>\n",
       "      <td>green</td>\n",
       "      <td>average</td>\n",
       "      <td>muddled</td>\n",
       "      <td>2015-01-30 22:33:29</td>\n",
       "    </tr>\n",
       "    <tr>\n",
       "      <th>4</th>\n",
       "      <td>NaN</td>\n",
       "      <td>-0.6913144223047157</td>\n",
       "      <td>-0.26502607502330217</td>\n",
       "      <td>2</td>\n",
       "      <td>blue</td>\n",
       "      <td>good</td>\n",
       "      <td>coordinated</td>\n",
       "      <td>2015-11-20 00:15:35</td>\n",
       "    </tr>\n",
       "    <tr>\n",
       "      <th>5</th>\n",
       "      <td>0.527112</td>\n",
       "      <td>2.584347847701393</td>\n",
       "      <td>-0.26502607502330217XYZ</td>\n",
       "      <td>2</td>\n",
       "      <td>blue</td>\n",
       "      <td>good</td>\n",
       "      <td>separate</td>\n",
       "      <td>2017-11-17 09:58:54</td>\n",
       "    </tr>\n",
       "    <tr>\n",
       "      <th>6</th>\n",
       "      <td>-1.555290</td>\n",
       "      <td>unknown</td>\n",
       "      <td>-0.7732649697439955</td>\n",
       "      <td>5</td>\n",
       "      <td>green</td>\n",
       "      <td>bad</td>\n",
       "      <td>bright</td>\n",
       "      <td>2017-05-01 10:32:41</td>\n",
       "    </tr>\n",
       "  </tbody>\n",
       "</table>\n",
       "</div>"
      ],
      "text/plain": [
       "   First column                   two                    three  SOME;NAME  \\\n",
       "0      0.348554  -0.14509562920877161    -0.012336991474672475          9   \n",
       "1     -1.493853   0.12436946488785079       1.4611100361038865          4   \n",
       "2     -0.325891                   NaN     -0.42191202598625566          2   \n",
       "3     -0.506596    0.3991147675939107    -0.26502607502330217           5   \n",
       "4           NaN   -0.6913144223047157     -0.26502607502330217          2   \n",
       "5      0.527112     2.584347847701393  -0.26502607502330217XYZ          2   \n",
       "6     -1.555290               unknown      -0.7732649697439955          5   \n",
       "\n",
       "    five What is this even?        seven                eight  \n",
       "0    red               good  quarrelsome  2016-05-26 09:33:42  \n",
       "1    red                bad       doctor  2016-12-03 18:55:52  \n",
       "2    red            average        large  2016-05-15 11:49:26  \n",
       "3  green            average      muddled  2015-01-30 22:33:29  \n",
       "4   blue               good  coordinated  2015-11-20 00:15:35  \n",
       "5   blue               good     separate  2017-11-17 09:58:54  \n",
       "6  green                bad       bright  2017-05-01 10:32:41  "
      ]
     },
     "execution_count": 2,
     "metadata": {},
     "output_type": "execute_result"
    }
   ],
   "source": [
    "df"
   ]
  },
  {
   "cell_type": "code",
   "execution_count": 3,
   "id": "48195660-5e42-4ad3-b47d-bee8fc057aa4",
   "metadata": {
    "tags": []
   },
   "outputs": [
    {
     "data": {
      "text/plain": [
       "Index(['First column', 'two', 'three', 'SOME;NAME', 'five',\n",
       "       'What is this even?', 'seven', 'eight'],\n",
       "      dtype='object')"
      ]
     },
     "execution_count": 3,
     "metadata": {},
     "output_type": "execute_result"
    }
   ],
   "source": [
    "df.columns"
   ]
  },
  {
   "cell_type": "code",
   "execution_count": 4,
   "id": "5d192d9e-e608-47b4-a190-77c628f3028a",
   "metadata": {
    "tags": []
   },
   "outputs": [
    {
     "data": {
      "text/plain": [
       "7"
      ]
     },
     "execution_count": 4,
     "metadata": {},
     "output_type": "execute_result"
    }
   ],
   "source": [
    "len(df.columns)  ###liczba kolumn\n",
    "len(df.index)  ####liczba wierszy"
   ]
  },
  {
   "cell_type": "code",
   "execution_count": 5,
   "id": "d0bae728-4bc8-45aa-a36e-f341f486a2d0",
   "metadata": {
    "tags": []
   },
   "outputs": [],
   "source": [
    "#### Execrise 1\n",
    "# !pip install json\n",
    "import json\n",
    "missing_pct = df.isna().sum() / len(df)\n",
    "\n",
    "cols_info = []\n",
    "\n",
    "for col in df.columns:\n",
    "    col_info = {\n",
    "        'name': col,\n",
    "        'missing': missing_pct[col],\n",
    "        'type': 'other'\n",
    "    }\n",
    "    if df[col].dtype == 'int64':\n",
    "        col_info['type'] = 'int'\n",
    "    elif df[col].dtype == 'float64':\n",
    "        col_info['type'] = 'float'\n",
    "    cols_info.append(col_info)\n",
    "    \n",
    "with open('ex01_fields.json', 'w') as f:\n",
    "    json.dump(cols_info, f, indent=4)"
   ]
  },
  {
   "cell_type": "code",
   "execution_count": 22,
   "id": "b6ce9d9c-908d-413f-a41d-0d568a151021",
   "metadata": {},
   "outputs": [
    {
     "name": "stdout",
     "output_type": "stream",
     "text": [
      "{'first_column': {'count': 6.0, 'mean': -0.5009940002009552, 'std': 0.8839385203395562, 'min': -1.55529041326908, '25%': -1.247038692513933, '50%': -0.4162433767179556, '75%': 0.1799426841401469, 'max': 0.5271122588523375}, 'two': {'count': '6', 'unique': '7', 'top': '-0.14509562920877161', 'freq': '1'}, 'three': {'count': '7', 'unique': '7', 'top': '-0.012336991474672475', 'freq': '1'}, 'somename': {'count': 7.0, 'mean': 4.142857142857143, 'std': 2.544836041121407, 'min': 2.0, '25%': 2.0, '50%': 4.0, '75%': 5.0, 'max': 9.0}, 'five': {'count': '7', 'unique': '3', 'top': 'red', 'freq': '3'}, 'what_is_this_even': {'count': '7', 'unique': '3', 'top': 'good', 'freq': '3'}, 'seven': {'count': '7', 'unique': '7', 'top': 'quarrelsome', 'freq': '1'}, 'eight': {'count': '7', 'unique': '7', 'top': '2016-05-26 09:33:42', 'freq': '1'}}\n"
     ]
    }
   ],
   "source": [
    "###Exercise 2\n",
    "# !pip install numpyencoder\n",
    "# from numpyencoder import NumpyEncoder\n",
    "import numpy as np\n",
    "dict={}\n",
    "for col in df.columns:\n",
    "    temp=df[col]\n",
    "    if temp.dtype != 'object':\n",
    "        dict_nested={}\n",
    "        dict_nested={\n",
    "            'count':str(len(df[col])-df[col].isna().sum()),\n",
    "            'mean':str(df[col].sum() / len(df[col])),\n",
    "            'std':str(np.std(df[col], ddof=1)),\n",
    "            'min':str(df[col].min()),\n",
    "            '25%':str(df[col].quantile([0.25])),\n",
    "            '50%':str(df[col].quantile([0.50])),\n",
    "            '75%':str(df[col].quantile([0.75])),\n",
    "            'max':str(df[col].max())\n",
    "        }\n",
    "        dict.update({col:temp.describe().to_dict()})\n",
    "    else:\n",
    "        dict_nested={}\n",
    "        dict_nested={\n",
    "            'count': str(len(df[col])-df[col].isna().sum()),\n",
    "            # 'unique':str(df[col].nunique()),\n",
    "            'unique':str(len(df[col].unique())),\n",
    "            'top':str(df[col].value_counts().idxmax()),\n",
    "            'freq':str(df[col].value_counts().max()),\n",
    "        }\n",
    "        dict.update({col:dict_nested})\n",
    "\n",
    "print(dict)        \n",
    "# # with open('ex02_stats.json', 'w') as f:\n",
    "# #     json.dump(dict, f, indent=4, sort_keys=True,\n",
    "# #               separators=(', ', ': '), ensure_ascii=False,\n",
    "# #               cls=NumpyEncoder)\n",
    "with open('ex02_stats.json', 'w') as f:\n",
    "    json.dump(dict, f)"
   ]
  },
  {
   "cell_type": "code",
   "execution_count": 7,
   "id": "104cd339-220b-4750-866b-76bf715f6cc8",
   "metadata": {},
   "outputs": [],
   "source": [
    "###Exercise 3\n",
    "# import re\n",
    "new_columns=[]\n",
    "\n",
    "for col in df.columns:\n",
    "    col = ''.join(c for c in col if c.isalnum() or c == '_' or c == ' ')\n",
    "    col=col.lower()\n",
    "    col=col.replace(' ', '_')\n",
    "    new_columns.append(col)\n",
    "    \n",
    "df.columns=new_columns\n",
    "\n",
    "df.to_csv('ex03_columns.csv', index=False)\n"
   ]
  },
  {
   "cell_type": "code",
   "execution_count": 8,
   "id": "943802b6-842f-461f-95f5-cdebf18ea520",
   "metadata": {
    "tags": []
   },
   "outputs": [
    {
     "name": "stdout",
     "output_type": "stream",
     "text": [
      "   first_column                   two                    three  somename  \\\n",
      "0      0.348554  -0.14509562920877161    -0.012336991474672475         9   \n",
      "1     -1.493853   0.12436946488785079       1.4611100361038865         4   \n",
      "2     -0.325891                   NaN     -0.42191202598625566         2   \n",
      "3     -0.506596    0.3991147675939107    -0.26502607502330217          5   \n",
      "4           NaN   -0.6913144223047157     -0.26502607502330217         2   \n",
      "5      0.527112     2.584347847701393  -0.26502607502330217XYZ         2   \n",
      "6     -1.555290               unknown      -0.7732649697439955         5   \n",
      "\n",
      "    five what_is_this_even        seven                eight  \n",
      "0    red              good  quarrelsome  2016-05-26 09:33:42  \n",
      "1    red               bad       doctor  2016-12-03 18:55:52  \n",
      "2    red           average        large  2016-05-15 11:49:26  \n",
      "3  green           average      muddled  2015-01-30 22:33:29  \n",
      "4   blue              good  coordinated  2015-11-20 00:15:35  \n",
      "5   blue              good     separate  2017-11-17 09:58:54  \n",
      "6  green               bad       bright  2017-05-01 10:32:41  \n"
     ]
    }
   ],
   "source": [
    "###Exercise 4\n",
    "# !pip install openpyxl\n",
    "import pickle\n",
    "import openpyxl\n",
    "\n",
    "# col_n= list(df.columns)\n",
    "# df_col = pd.DataFrame(columns=col_n)\n",
    "# print(df_col)\n",
    "# df_col.to_excel('ex04_excel.xlsx', index=False)\n",
    "\n",
    "df_col=pd.DataFrame(df)\n",
    "print(df_col)\n",
    "df_col.to_excel('ex04_excel.xlsx', index=False)\n",
    "\n",
    "rows = df.to_dict(orient='records')\n",
    "with open('ex04_json.json', 'w') as f:\n",
    "    json.dump(rows, f)\n",
    "\n",
    "with open('ex04_pickle.pkl', 'wb') as f:\n",
    "    pickle.dump(df, f)"
   ]
  },
  {
   "cell_type": "code",
   "execution_count": 9,
   "id": "9a04f666-2d6a-49e7-9741-c53f0fcd420b",
   "metadata": {},
   "outputs": [
    {
     "name": "stdout",
     "output_type": "stream",
     "text": [
      "             description age\n",
      "v        Freedom fighter    \n",
      "valerie          Actress    \n"
     ]
    }
   ],
   "source": [
    "###Exercise 5\n",
    "# !pip install tabulate\n",
    "dff=pd.read_pickle('lab1_ex05.pkl')\n",
    "dff = dff.fillna('')\n",
    "result = dff.iloc[dff.index.str.startswith('v'), 1:3]\n",
    "print(result)\n",
    "result.to_markdown('ex05_table.md')"
   ]
  },
  {
   "cell_type": "code",
   "execution_count": 10,
   "id": "174f3d8c-beec-4fea-b9dd-64cb32f142f0",
   "metadata": {
    "tags": []
   },
   "outputs": [],
   "source": [
    "###Exercise 6\n",
    "with open('lab1_ex06.json', 'r') as f:\n",
    "    data = json.load(f)\n",
    "\n",
    "dfff = pd.json_normalize(data, sep='.')\n",
    "\n",
    "dfff.to_pickle('ex06_pickle.pkl')"
   ]
  }
 ],
 "metadata": {
  "kernelspec": {
   "display_name": "Python 3 (ipykernel)",
   "language": "python",
   "name": "python3"
  },
  "language_info": {
   "codemirror_mode": {
    "name": "ipython",
    "version": 3
   },
   "file_extension": ".py",
   "mimetype": "text/x-python",
   "name": "python",
   "nbconvert_exporter": "python",
   "pygments_lexer": "ipython3",
   "version": "3.11.1"
  }
 },
 "nbformat": 4,
 "nbformat_minor": 5
}
